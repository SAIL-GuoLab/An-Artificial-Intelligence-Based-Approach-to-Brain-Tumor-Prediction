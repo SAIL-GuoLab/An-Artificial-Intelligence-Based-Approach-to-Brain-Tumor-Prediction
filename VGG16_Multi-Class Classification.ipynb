{
 "cells": [
  {
   "cell_type": "code",
   "execution_count": 20,
   "id": "b175d1df-3a43-4a4e-a65e-3530cee65171",
   "metadata": {},
   "outputs": [],
   "source": [
    "import tensorflow as tf    \n",
    "import matplotlib.pyplot as plt\n",
    "import pathlib\n",
    "import numpy as np\n",
    "import pandas as pd\n",
    "import warnings\n",
    "from tensorflow import keras\n",
    "import os\n",
    "warnings.filterwarnings(\"ignore\")"
   ]
  },
  {
   "cell_type": "code",
   "execution_count": 21,
   "id": "1ae0a5e8-22c7-46c3-b260-e29a67525d0d",
   "metadata": {},
   "outputs": [
    {
     "name": "stdout",
     "output_type": "stream",
     "text": [
      "Found 3095 files belonging to 6 classes.\n",
      "Found 1323 files belonging to 6 classes.\n",
      "Class names: ['Glioma', 'Meningioma', 'NORMAL', 'Neurocitoma', 'Outros Tipos de Lesões', 'Schwannoma']\n",
      "Number of classes: 6\n"
     ]
    }
   ],
   "source": [
    "train_dir = './train'\n",
    "\n",
    "# Create a TensorFlow Dataset using image_dataset_from_directory\n",
    "batch_size = 32\n",
    "image_size = (224, 224)  # Resize images to this size\n",
    "seed = 42  # Set a random seed for shuffling\n",
    "\n",
    "train_dataset = tf.keras.utils.image_dataset_from_directory(\n",
    "    train_dir,\n",
    "    batch_size=batch_size,\n",
    "    image_size=image_size,\n",
    "    #seed=seed,\n",
    "    #validation_split=0.2,  # Split the dataset into training and validation sets\n",
    "    #subset='training'  # Use the training subset\n",
    ")\n",
    "\n",
    "test_dir = './test'\n",
    "val_dataset = tf.keras.utils.image_dataset_from_directory(\n",
    "    test_dir,\n",
    "    batch_size=batch_size,\n",
    "    image_size=image_size,\n",
    "    #seed=seed,\n",
    "    #validation_split=0.2,  # Split the dataset into training and validation sets\n",
    "    #subset='validation'  # Use the validation subset\n",
    ")\n",
    "\n",
    "# Print class names and number of classes\n",
    "class_names = train_dataset.class_names\n",
    "num_classes = len(class_names)\n",
    "print(\"Class names:\", class_names)\n",
    "print(\"Number of classes:\", num_classes)\n",
    "\n",
    "# Now you can iterate over the train_dataset and val_dataset and train your model"
   ]
  },
  {
   "cell_type": "code",
   "execution_count": 86,
   "id": "31b56e9e-5d02-4330-a07c-210b8e9e28f0",
   "metadata": {},
   "outputs": [
    {
     "name": "stdout",
     "output_type": "stream",
     "text": [
      "Epoch 1/20\n",
      "97/97 [==============================] - 10s 102ms/step - loss: 1.7834 - accuracy: 0.3784 - val_loss: 1.2064 - val_accuracy: 0.5200\n",
      "Epoch 2/20\n",
      "97/97 [==============================] - 10s 103ms/step - loss: 0.8845 - accuracy: 0.6759 - val_loss: 0.6510 - val_accuracy: 0.7800\n",
      "Epoch 3/20\n",
      "97/97 [==============================] - 10s 104ms/step - loss: 0.5254 - accuracy: 0.8113 - val_loss: 0.5349 - val_accuracy: 0.8224\n",
      "Epoch 4/20\n",
      "97/97 [==============================] - 10s 104ms/step - loss: 0.3060 - accuracy: 0.8931 - val_loss: 0.4276 - val_accuracy: 0.8639\n",
      "Epoch 5/20\n",
      "97/97 [==============================] - 10s 104ms/step - loss: 0.2069 - accuracy: 0.9296 - val_loss: 0.3591 - val_accuracy: 0.8949\n",
      "Epoch 6/20\n",
      "97/97 [==============================] - 10s 104ms/step - loss: 0.1322 - accuracy: 0.9586 - val_loss: 0.3186 - val_accuracy: 0.9017\n",
      "Epoch 7/20\n",
      "97/97 [==============================] - 10s 104ms/step - loss: 0.0774 - accuracy: 0.9754 - val_loss: 0.2856 - val_accuracy: 0.9229\n",
      "Epoch 8/20\n",
      "97/97 [==============================] - 10s 103ms/step - loss: 0.0942 - accuracy: 0.9690 - val_loss: 0.2279 - val_accuracy: 0.9259\n",
      "Epoch 9/20\n",
      "97/97 [==============================] - 10s 104ms/step - loss: 0.0837 - accuracy: 0.9742 - val_loss: 0.2013 - val_accuracy: 0.9569\n",
      "Epoch 10/20\n",
      "97/97 [==============================] - 10s 103ms/step - loss: 0.0379 - accuracy: 0.9868 - val_loss: 0.3677 - val_accuracy: 0.9048\n",
      "Epoch 11/20\n",
      "97/97 [==============================] - 10s 103ms/step - loss: 0.0957 - accuracy: 0.9670 - val_loss: 0.3041 - val_accuracy: 0.9131\n",
      "Epoch 12/20\n",
      "97/97 [==============================] - 10s 103ms/step - loss: 0.0254 - accuracy: 0.9942 - val_loss: 0.1639 - val_accuracy: 0.9637\n",
      "Epoch 13/20\n",
      "97/97 [==============================] - 10s 105ms/step - loss: 0.0033 - accuracy: 1.0000 - val_loss: 0.1990 - val_accuracy: 0.9599\n",
      "Epoch 14/20\n",
      "97/97 [==============================] - 10s 104ms/step - loss: 4.8018e-04 - accuracy: 1.0000 - val_loss: 0.1734 - val_accuracy: 0.9637\n",
      "Epoch 15/20\n",
      "97/97 [==============================] - 10s 104ms/step - loss: 0.0012 - accuracy: 0.9997 - val_loss: 0.1651 - val_accuracy: 0.9637\n",
      "Epoch 16/20\n",
      "97/97 [==============================] - 10s 104ms/step - loss: 1.4296e-04 - accuracy: 1.0000 - val_loss: 0.1674 - val_accuracy: 0.9652\n",
      "Epoch 17/20\n",
      "97/97 [==============================] - 10s 103ms/step - loss: 1.0420e-04 - accuracy: 1.0000 - val_loss: 0.1702 - val_accuracy: 0.9660\n",
      "Epoch 18/20\n",
      "97/97 [==============================] - 10s 104ms/step - loss: 8.3526e-05 - accuracy: 1.0000 - val_loss: 0.1720 - val_accuracy: 0.9667\n",
      "Epoch 19/20\n",
      "97/97 [==============================] - 10s 103ms/step - loss: 6.9492e-05 - accuracy: 1.0000 - val_loss: 0.1742 - val_accuracy: 0.9667\n",
      "Epoch 20/20\n",
      "97/97 [==============================] - 10s 104ms/step - loss: 5.9333e-05 - accuracy: 1.0000 - val_loss: 0.1766 - val_accuracy: 0.9660\n",
      "42/42 [==============================] - 2s 44ms/step - loss: 0.1766 - accuracy: 0.9660\n",
      "Validation accuracy: 0.9659863710403442\n"
     ]
    }
   ],
   "source": [
    "# train a vgg model to classify 17 classes with tensorflow\n",
    "import tensorflow as tf\n",
    "from tensorflow.keras.applications import VGG16\n",
    "from tensorflow.keras import layers, models\n",
    "from keras.optimizers import SGD\n",
    "from keras.optimizers import Adam\n",
    "\n",
    "# Load the VGG16 model pre-trained on ImageNet data\n",
    "base_model = VGG16(weights = 'imagenet', include_top=False, input_shape=(224, 224, 3))\n",
    "\n",
    "# freeze all layers for classification\n",
    "for layer in base_model.layers[:5]:\n",
    "    layer.trainable = False\n",
    "\n",
    "# Add a few layers for classification\n",
    "model = models.Sequential([\n",
    "    base_model,\n",
    "    layers.Flatten(),\n",
    "    layers.Dense(6, activation='softmax') \n",
    "])\n",
    "\n",
    "# Compile the model\n",
    "#model.compile(loss=tf.keras.losses.BinaryCrossentropy(from_logits=False),optimizer=tf.keras.optimizers.Adam(1e-4),metrics=['accuracy'])\n",
    "model.compile(optimizer=Adam(learning_rate=0.00007),\n",
    "              #optimizer=SGD(learning_rate=0.98),\n",
    "              loss='sparse_categorical_crossentropy',  # Since your labels are integers\n",
    "              metrics=['accuracy'])\n",
    "\n",
    "# Train the model\n",
    "epochs = 20\n",
    "hist = model.fit(train_dataset, validation_data=val_dataset, epochs=epochs)\n",
    "\n",
    "# Evaluate the model\n",
    "loss, accuracy = model.evaluate(val_dataset)\n",
    "print(\"Validation accuracy:\", accuracy)\n"
   ]
  },
  {
   "cell_type": "markdown",
   "id": "34ce189e-292a-4d7a-bb25-44feecf70ff7",
   "metadata": {},
   "source": [
    "# Plot training results"
   ]
  },
  {
   "cell_type": "markdown",
   "id": "ec7c90ee-8030-430a-91e4-da5ee8e61b7d",
   "metadata": {},
   "source": [
    "### Accuracy/Loss/Recall"
   ]
  },
  {
   "cell_type": "code",
   "execution_count": 77,
   "id": "8bbd5495-93ad-458f-a039-7d2dfd29b929",
   "metadata": {},
   "outputs": [],
   "source": [
    "def plot_history(history):\n",
    "  acc = history.history['accuracy']\n",
    "  val_acc = history.history['val_accuracy']\n",
    "  loss = history.history['loss']\n",
    "  val_loss = history.history['val_loss']\n",
    "  x = range(1, len(acc) + 1)\n",
    "    \n",
    "  plt.figure(figsize=(12, 5))\n",
    "  plt.subplot(1, 2, 1)\n",
    "  plt.plot(x, acc, 'b', label='Training acc')\n",
    "  plt.plot(x, val_acc, 'r', label='Validation acc')\n",
    "  plt.title('Training and validation accuracy')\n",
    "  plt.legend()\n",
    "\n",
    "  plt.subplot(1, 2, 2)\n",
    "  plt.plot(x, loss, 'b', label='Training loss')\n",
    "  plt.plot(x, val_loss, 'r', label='Validation loss')\n",
    "  plt.title('Training and validation loss')\n",
    "  plt.legend()\n"
   ]
  },
  {
   "cell_type": "code",
   "execution_count": 78,
   "id": "ced7aa76-4ca7-40d3-ad1f-b05d9476923d",
   "metadata": {
    "tags": []
   },
   "outputs": [
    {
     "data": {
      "image/png": "[encoded data removed]",
      "text/plain": [
       "<Figure size 864x360 with 2 Axes>"
      ]
     },
     "metadata": {
      "needs_background": "light"
     },
     "output_type": "display_data"
    }
   ],
   "source": [
    "plot_history(hist)"
   ]
  },
  {
   "cell_type": "code",
   "execution_count": 79,
   "id": "1a792334-bffd-40ed-8643-e3c0a24b3a37",
   "metadata": {},
   "outputs": [],
   "source": [
    "def plot_history(history):\n",
    "\n",
    "  plt.figure(figsize=(12, 5))\n",
    "  plt.subplot(1, 2, 1)\n",
    "  plt.plot(history.epoch,  history.history['accuracy'], label='Train')\n",
    "  plt.plot(history.epoch, history.history['val_accuracy'],\n",
    "                linestyle=\"--\", label='Val')\n",
    "  plt.ylim([0.8,1])\n",
    "  plt.title('Training and validation accuracy')\n",
    "  plt.legend()\n",
    "\n",
    "  plt.subplot(1, 2, 2)\n",
    "  plt.plot(history.epoch,  history.history['loss'], label='Train')\n",
    "  plt.plot(history.epoch, history.history['val_loss'],\n",
    "                linestyle=\"--\", label='Val')\n",
    "  plt.title('Training and validation loss')\n",
    "  plt.legend()\n",
    "\n",
    "#plot_history(hist)"
   ]
  },
  {
   "cell_type": "code",
   "execution_count": null,
   "id": "c61960ae-15c7-4fd7-adaa-4491a0627d31",
   "metadata": {},
   "outputs": [],
   "source": []
  },
  {
   "cell_type": "markdown",
   "id": "52e67be8-bdd9-47f0-9701-4ffe6d58babd",
   "metadata": {
    "tags": []
   },
   "source": [
    "# Confusion Matrix"
   ]
  },
  {
   "cell_type": "code",
   "execution_count": 83,
   "id": "06843af2-fec5-48d1-a385-07860d1f691f",
   "metadata": {},
   "outputs": [],
   "source": [
    "# Get class names from the test dataset\n",
    "class_names = val_dataset.class_names\n",
    "from tensorflow.keras.utils import to_categorical\n",
    "\n",
    "# Convert class names to class indices\n",
    "class_indices = {class_name: index for index, class_name in enumerate(class_names)}\n",
    "\n",
    "# Create a list of true labels (y_test) based on the file paths in the test_dataset\n",
    "y_test = []\n",
    "for images, labels in val_dataset:\n",
    "    for label in labels:\n",
    "        class_name = class_names[label]\n",
    "        class_index = class_indices[class_name]\n",
    "        y_test.append(class_index)"
   ]
  },
  {
   "cell_type": "code",
   "execution_count": 84,
   "id": "e472cfa3-6681-43c0-83a4-e0b444c4ba13",
   "metadata": {
    "tags": []
   },
   "outputs": [
    {
     "name": "stdout",
     "output_type": "stream",
     "text": [
      "Found 1323 files belonging to 6 classes.\n"
     ]
    }
   ],
   "source": [
    "val_dataset = tf.keras.utils.image_dataset_from_directory(\n",
    "    test_dir,\n",
    "    batch_size=batch_size,\n",
    "    image_size=image_size,\n",
    "    shuffle=False\n",
    "    #seed=seed,\n",
    "    #validation_split=0.2,  # Split the dataset into training and validation sets\n",
    "    #subset='validation'  # Use the validation subset\n",
    ")"
   ]
  },
  {
   "cell_type": "code",
   "execution_count": 85,
   "id": "0b3cadf7-82ae-480d-b3ca-81c448d238bb",
   "metadata": {},
   "outputs": [
    {
     "name": "stdout",
     "output_type": "stream",
     "text": [
      "42/42 [==============================] - 2s 42ms/step\n"
     ]
    },
    {
     "data": {
      "image/png": "[encoded data removed]",
      "text/plain": [
       "<Figure size 720x720 with 2 Axes>"
      ]
     },
     "metadata": {
      "needs_background": "light"
     },
     "output_type": "display_data"
    },
    {
     "name": "stdout",
     "output_type": "stream",
     "text": [
      "                        precision    recall  f1-score   support\n",
      "\n",
      "                Glioma       0.94      0.97      0.96       378\n",
      "            Meningioma       0.97      0.93      0.95       397\n",
      "                NORMAL       0.94      0.99      0.96       169\n",
      "           Neurocitoma       0.97      0.95      0.96       161\n",
      "Outros Tipos de Lesões       0.99      0.96      0.97        72\n",
      "            Schwannoma       0.99      0.98      0.98       146\n",
      "\n",
      "              accuracy                           0.96      1323\n",
      "             macro avg       0.97      0.96      0.96      1323\n",
      "          weighted avg       0.96      0.96      0.96      1323\n",
      "\n"
     ]
    }
   ],
   "source": [
    "import seaborn as sns\n",
    "import matplotlib.pyplot as plt\n",
    "import numpy as np\n",
    "\n",
    "from sklearn.metrics import confusion_matrix\n",
    "from sklearn.metrics import classification_report\n",
    "\n",
    "\n",
    "# make predictions\n",
    "y_pred = model.predict(val_dataset)\n",
    "y_pred = np.argmax(y_pred, axis=1)\n",
    "\n",
    "# get confusion matrix\n",
    "cm = confusion_matrix(y_pred, y_test)\n",
    "\n",
    "# get classification report\n",
    "cr = classification_report(y_test, y_pred, target_names=class_names)\n",
    "\n",
    "# plot confusion matrix\n",
    "plt.figure(figsize=(10, 10))\n",
    "sns.heatmap(cm, annot=True, fmt='d',  cmap='Blues', xticklabels=class_names, yticklabels=class_names)\n",
    "plt.xlabel('Predicted')\n",
    "plt.ylabel('Actual')\n",
    "plt.title('Confusion Matrix')\n",
    "plt.show()\n",
    "\n",
    "# print classification report\n",
    "print(cr)\n"
   ]
  },
  {
   "cell_type": "code",
   "execution_count": null,
   "id": "1f1d69ae-6e1b-4f3c-ac45-76c4db40c9ac",
   "metadata": {},
   "outputs": [],
   "source": []
  },
  {
   "cell_type": "code",
   "execution_count": null,
   "id": "065defea-51a6-4084-8237-1fd82a30c22b",
   "metadata": {},
   "outputs": [],
   "source": []
  }
 ],
 "metadata": {
  "kernelspec": {
   "display_name": "Python 3 (ipykernel)",
   "language": "python",
   "name": "python3"
  },
  "language_info": {
   "codemirror_mode": {
    "name": "ipython",
    "version": 3
   },
   "file_extension": ".py",
   "mimetype": "text/x-python",
   "name": "python",
   "nbconvert_exporter": "python",
   "pygments_lexer": "ipython3",
   "version": "3.8.10"
  }
 },
 "nbformat": 4,
 "nbformat_minor": 5
}
