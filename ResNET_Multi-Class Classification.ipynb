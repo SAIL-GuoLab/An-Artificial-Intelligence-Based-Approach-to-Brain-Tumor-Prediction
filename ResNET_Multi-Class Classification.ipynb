{
 "cells": [
  {
   "cell_type": "code",
   "execution_count": 1,
   "id": "b175d1df-3a43-4a4e-a65e-3530cee65171",
   "metadata": {},
   "outputs": [],
   "source": [
    "import tensorflow as tf    \n",
    "import matplotlib.pyplot as plt\n",
    "import pathlib\n",
    "import numpy as np\n",
    "import pandas as pd\n",
    "import warnings\n",
    "from tensorflow import keras\n",
    "import os\n",
    "warnings.filterwarnings(\"ignore\")"
   ]
  },
  {
   "cell_type": "code",
   "execution_count": 2,
   "id": "1ae0a5e8-22c7-46c3-b260-e29a67525d0d",
   "metadata": {},
   "outputs": [
    {
     "name": "stdout",
     "output_type": "stream",
     "text": [
      "Found 3095 files belonging to 6 classes.\n"
     ]
    },
    {
     "name": "stderr",
     "output_type": "stream",
     "text": [
      "2023-09-19 09:51:39.946191: I tensorflow/core/platform/cpu_feature_guard.cc:193] This TensorFlow binary is optimized with oneAPI Deep Neural Network Library (oneDNN) to use the following CPU instructions in performance-critical operations:  AVX2 FMA\n",
      "To enable them in other operations, rebuild TensorFlow with the appropriate compiler flags.\n",
      "2023-09-19 09:51:41.986461: I tensorflow/core/common_runtime/gpu/gpu_device.cc:1532] Created device /job:localhost/replica:0/task:0/device:GPU:0 with 11424 MB memory:  -> device: 0, name: NVIDIA TITAN Xp, pci bus id: 0000:08:00.0, compute capability: 6.1\n"
     ]
    },
    {
     "name": "stdout",
     "output_type": "stream",
     "text": [
      "Found 1323 files belonging to 6 classes.\n",
      "Class names: ['Glioma', 'Meningioma', 'NORMAL', 'Neurocitoma', 'Outros Tipos de Lesões', 'Schwannoma']\n",
      "Number of classes: 6\n"
     ]
    }
   ],
   "source": [
    "train_dir = './train'\n",
    "\n",
    "# Create a TensorFlow Dataset using image_dataset_from_directory\n",
    "batch_size = 32\n",
    "image_size = (224, 224)  # Resize images to this size\n",
    "seed = 42  # Set a random seed for shuffling\n",
    "\n",
    "train_dataset = tf.keras.utils.image_dataset_from_directory(\n",
    "    train_dir,\n",
    "    batch_size=batch_size,\n",
    "    image_size=image_size,\n",
    "    #seed=seed,\n",
    "    #validation_split=0.2,  # Split the dataset into training and validation sets\n",
    "    #subset='training'  # Use the training subset\n",
    ")\n",
    "\n",
    "test_dir = './test'\n",
    "val_dataset = tf.keras.utils.image_dataset_from_directory(\n",
    "    test_dir,\n",
    "    batch_size=batch_size,\n",
    "    image_size=image_size,\n",
    "    #seed=seed,\n",
    "    #validation_split=0.2,  # Split the dataset into training and validation sets\n",
    "    #subset='validation'  # Use the validation subset\n",
    ")\n",
    "\n",
    "# Print class names and number of classes\n",
    "class_names = train_dataset.class_names\n",
    "num_classes = len(class_names)\n",
    "print(\"Class names:\", class_names)\n",
    "print(\"Number of classes:\", num_classes)\n",
    "\n",
    "# Now you can iterate over the train_dataset and val_dataset and train your model"
   ]
  },
  {
   "cell_type": "code",
   "execution_count": 6,
   "id": "31b56e9e-5d02-4330-a07c-210b8e9e28f0",
   "metadata": {},
   "outputs": [
    {
     "name": "stdout",
     "output_type": "stream",
     "text": [
      "Downloading data from https://storage.googleapis.com/tensorflow/keras-applications/resnet/resnet50_weights_tf_dim_ordering_tf_kernels_notop.h5\n",
      "94765736/94765736 [==============================] - 11s 0us/step\n",
      "Epoch 1/20\n"
     ]
    },
    {
     "name": "stderr",
     "output_type": "stream",
     "text": [
      "2023-09-19 09:59:20.191310: I tensorflow/stream_executor/cuda/cuda_dnn.cc:384] Loaded cuDNN version 8101\n"
     ]
    },
    {
     "name": "stdout",
     "output_type": "stream",
     "text": [
      "97/97 [==============================] - 31s 208ms/step - loss: 7.9611 - accuracy: 0.4775 - val_loss: 7.2065 - val_accuracy: 0.1277\n",
      "Epoch 2/20\n",
      "97/97 [==============================] - 19s 190ms/step - loss: 0.8020 - accuracy: 0.7906 - val_loss: 0.9631 - val_accuracy: 0.6992\n",
      "Epoch 3/20\n",
      "97/97 [==============================] - 19s 191ms/step - loss: 0.3135 - accuracy: 0.9092 - val_loss: 0.4812 - val_accuracy: 0.8556\n",
      "Epoch 4/20\n",
      "97/97 [==============================] - 19s 190ms/step - loss: 0.1039 - accuracy: 0.9764 - val_loss: 0.3704 - val_accuracy: 0.8881\n",
      "Epoch 5/20\n",
      "97/97 [==============================] - 18s 186ms/step - loss: 0.0377 - accuracy: 0.9939 - val_loss: 0.2361 - val_accuracy: 0.9327\n",
      "Epoch 6/20\n",
      "97/97 [==============================] - 18s 188ms/step - loss: 0.0156 - accuracy: 0.9987 - val_loss: 0.2168 - val_accuracy: 0.9365\n",
      "Epoch 7/20\n",
      "97/97 [==============================] - 18s 189ms/step - loss: 0.0090 - accuracy: 0.9997 - val_loss: 0.1985 - val_accuracy: 0.9426\n",
      "Epoch 8/20\n",
      "97/97 [==============================] - 19s 189ms/step - loss: 0.0061 - accuracy: 1.0000 - val_loss: 0.2115 - val_accuracy: 0.9395\n",
      "Epoch 9/20\n",
      "97/97 [==============================] - 18s 189ms/step - loss: 0.0051 - accuracy: 0.9997 - val_loss: 0.2120 - val_accuracy: 0.9395\n",
      "Epoch 10/20\n",
      "97/97 [==============================] - 19s 191ms/step - loss: 0.0040 - accuracy: 0.9997 - val_loss: 0.2174 - val_accuracy: 0.9388\n",
      "Epoch 11/20\n",
      "97/97 [==============================] - 19s 190ms/step - loss: 0.0029 - accuracy: 1.0000 - val_loss: 0.2108 - val_accuracy: 0.9410\n",
      "Epoch 12/20\n",
      "97/97 [==============================] - 19s 190ms/step - loss: 0.0029 - accuracy: 1.0000 - val_loss: 0.2152 - val_accuracy: 0.9426\n",
      "Epoch 13/20\n",
      "97/97 [==============================] - 19s 189ms/step - loss: 0.0025 - accuracy: 1.0000 - val_loss: 0.2157 - val_accuracy: 0.9448\n",
      "Epoch 14/20\n",
      "97/97 [==============================] - 19s 189ms/step - loss: 0.0019 - accuracy: 1.0000 - val_loss: 0.2130 - val_accuracy: 0.9448\n",
      "Epoch 15/20\n",
      "97/97 [==============================] - 19s 191ms/step - loss: 0.0017 - accuracy: 1.0000 - val_loss: 0.2093 - val_accuracy: 0.9456\n",
      "Epoch 16/20\n",
      "97/97 [==============================] - 19s 191ms/step - loss: 0.0016 - accuracy: 1.0000 - val_loss: 0.2123 - val_accuracy: 0.9478\n",
      "Epoch 17/20\n",
      "97/97 [==============================] - 18s 189ms/step - loss: 0.0014 - accuracy: 1.0000 - val_loss: 0.2072 - val_accuracy: 0.9463\n",
      "Epoch 18/20\n",
      "97/97 [==============================] - 19s 190ms/step - loss: 0.0012 - accuracy: 1.0000 - val_loss: 0.2056 - val_accuracy: 0.9478\n",
      "Epoch 19/20\n",
      "97/97 [==============================] - 19s 190ms/step - loss: 0.0012 - accuracy: 1.0000 - val_loss: 0.2069 - val_accuracy: 0.9478\n",
      "Epoch 20/20\n",
      "97/97 [==============================] - 19s 190ms/step - loss: 0.0013 - accuracy: 1.0000 - val_loss: 0.2040 - val_accuracy: 0.9486\n",
      "42/42 [==============================] - 3s 60ms/step - loss: 0.2040 - accuracy: 0.9486\n",
      "Validation accuracy: 0.9486016631126404\n"
     ]
    }
   ],
   "source": [
    "# train a vgg model to classify 17 classes with tensorflow\n",
    "import tensorflow as tf\n",
    "from tensorflow.keras.applications import ResNet50\n",
    "from tensorflow.keras import layers, models\n",
    "from keras.optimizers import SGD\n",
    "from keras.optimizers import Adam\n",
    "\n",
    "# Load the VGG16 model pre-trained on ImageNet data\n",
    "base_model = ResNet50(weights = 'imagenet', include_top=False, input_shape=(224, 224, 3))\n",
    "\n",
    "# freeze all layers for classification\n",
    "for layer in base_model.layers[:5]:\n",
    "    layer.trainable = False\n",
    "\n",
    "# Add a few layers for classification\n",
    "model = models.Sequential([\n",
    "    base_model,\n",
    "    layers.Flatten(),\n",
    "    layers.Dense(6, activation='softmax') \n",
    "])\n",
    "\n",
    "# Compile the model\n",
    "#model.compile(loss=tf.keras.losses.BinaryCrossentropy(from_logits=False),optimizer=tf.keras.optimizers.Adam(1e-4),metrics=['accuracy'])\n",
    "model.compile(optimizer='sgd',\n",
    "              loss='sparse_categorical_crossentropy',  # Since your labels are integers\n",
    "              metrics=['accuracy'])\n",
    "\n",
    "# Train the model\n",
    "epochs = 20\n",
    "hist = model.fit(train_dataset, validation_data=val_dataset, epochs=epochs)\n",
    "\n",
    "# Evaluate the model\n",
    "loss, accuracy = model.evaluate(val_dataset)\n",
    "print(\"Validation accuracy:\", accuracy)"
   ]
  },
  {
   "cell_type": "markdown",
   "id": "34ce189e-292a-4d7a-bb25-44feecf70ff7",
   "metadata": {},
   "source": [
    "# Plot training results"
   ]
  },
  {
   "cell_type": "markdown",
   "id": "ec7c90ee-8030-430a-91e4-da5ee8e61b7d",
   "metadata": {},
   "source": [
    "### Accuracy/Loss/Recall"
   ]
  },
  {
   "cell_type": "code",
   "execution_count": 7,
   "id": "8bbd5495-93ad-458f-a039-7d2dfd29b929",
   "metadata": {},
   "outputs": [],
   "source": [
    "def plot_history(history):\n",
    "  acc = history.history['accuracy']\n",
    "  val_acc = history.history['val_accuracy']\n",
    "  loss = history.history['loss']\n",
    "  val_loss = history.history['val_loss']\n",
    "  x = range(1, len(acc) + 1)\n",
    "    \n",
    "  plt.figure(figsize=(12, 5))\n",
    "  plt.subplot(1, 2, 1)\n",
    "  plt.plot(x, acc, 'b', label='Training acc')\n",
    "  plt.plot(x, val_acc, 'r', label='Validation acc')\n",
    "  plt.title('Training and validation accuracy')\n",
    "  plt.legend()\n",
    "\n",
    "  plt.subplot(1, 2, 2)\n",
    "  plt.plot(x, loss, 'b', label='Training loss')\n",
    "  plt.plot(x, val_loss, 'r', label='Validation loss')\n",
    "  plt.title('Training and validation loss')\n",
    "  plt.legend()\n"
   ]
  },
  {
   "cell_type": "code",
   "execution_count": 8,
   "id": "ced7aa76-4ca7-40d3-ad1f-b05d9476923d",
   "metadata": {
    "tags": []
   },
   "outputs": [
    {
     "data": {
      "image/png": "[encoded data removed]",
      "text/plain": [
       "<Figure size 864x360 with 2 Axes>"
      ]
     },
     "metadata": {
      "needs_background": "light"
     },
     "output_type": "display_data"
    }
   ],
   "source": [
    "plot_history(hist)"
   ]
  },
  {
   "cell_type": "markdown",
   "id": "52e67be8-bdd9-47f0-9701-4ffe6d58babd",
   "metadata": {
    "tags": []
   },
   "source": [
    "# Confusion Matrix"
   ]
  },
  {
   "cell_type": "code",
   "execution_count": 12,
   "id": "06843af2-fec5-48d1-a385-07860d1f691f",
   "metadata": {},
   "outputs": [],
   "source": [
    "# Get class names from the test dataset\n",
    "class_names = val_dataset.class_names\n",
    "from tensorflow.keras.utils import to_categorical\n",
    "\n",
    "# Convert class names to class indices\n",
    "class_indices = {class_name: index for index, class_name in enumerate(class_names)}\n",
    "\n",
    "# Create a list of true labels (y_test) based on the file paths in the test_dataset\n",
    "y_test = []\n",
    "for images, labels in val_dataset:\n",
    "    for label in labels:\n",
    "        class_name = class_names[label]\n",
    "        class_index = class_indices[class_name]\n",
    "        y_test.append(class_index)"
   ]
  },
  {
   "cell_type": "code",
   "execution_count": 13,
   "id": "e472cfa3-6681-43c0-83a4-e0b444c4ba13",
   "metadata": {
    "tags": []
   },
   "outputs": [
    {
     "name": "stdout",
     "output_type": "stream",
     "text": [
      "Found 1323 files belonging to 6 classes.\n"
     ]
    }
   ],
   "source": [
    "val_dataset = tf.keras.utils.image_dataset_from_directory(\n",
    "    test_dir,\n",
    "    batch_size=batch_size,\n",
    "    image_size=image_size,\n",
    "    shuffle=False\n",
    "    #seed=seed,\n",
    "    #validation_split=0.2,  # Split the dataset into training and validation sets\n",
    "    #subset='validation'  # Use the validation subset\n",
    ")"
   ]
  },
  {
   "cell_type": "code",
   "execution_count": 14,
   "id": "0b3cadf7-82ae-480d-b3ca-81c448d238bb",
   "metadata": {},
   "outputs": [
    {
     "name": "stdout",
     "output_type": "stream",
     "text": [
      "42/42 [==============================] - 2s 55ms/step\n"
     ]
    },
    {
     "data": {
      "image/png": "[encoded data removed]",
      "text/plain": [
       "<Figure size 720x720 with 2 Axes>"
      ]
     },
     "metadata": {
      "needs_background": "light"
     },
     "output_type": "display_data"
    },
    {
     "name": "stdout",
     "output_type": "stream",
     "text": [
      "                        precision    recall  f1-score   support\n",
      "\n",
      "                Glioma       0.95      0.94      0.94       378\n",
      "            Meningioma       0.93      0.95      0.94       397\n",
      "                NORMAL       0.96      0.96      0.96       169\n",
      "           Neurocitoma       0.97      0.92      0.94       161\n",
      "Outros Tipos de Lesões       0.97      0.96      0.97        72\n",
      "            Schwannoma       0.95      0.96      0.95       146\n",
      "\n",
      "              accuracy                           0.95      1323\n",
      "             macro avg       0.95      0.95      0.95      1323\n",
      "          weighted avg       0.95      0.95      0.95      1323\n",
      "\n"
     ]
    }
   ],
   "source": [
    "import seaborn as sns\n",
    "import matplotlib.pyplot as plt\n",
    "import numpy as np\n",
    "\n",
    "from sklearn.metrics import confusion_matrix\n",
    "from sklearn.metrics import classification_report\n",
    "\n",
    "\n",
    "# make predictions\n",
    "y_pred = model.predict(val_dataset)\n",
    "y_pred = np.argmax(y_pred, axis=1)\n",
    "\n",
    "# get confusion matrix\n",
    "cm = confusion_matrix(y_pred, y_test)\n",
    "\n",
    "# get classification report\n",
    "cr = classification_report(y_test, y_pred, target_names=class_names)\n",
    "\n",
    "# plot confusion matrix\n",
    "plt.figure(figsize=(10, 10))\n",
    "sns.heatmap(cm, annot=True, fmt='d',  cmap='Blues', xticklabels=class_names, yticklabels=class_names)\n",
    "plt.xlabel('Predicted')\n",
    "plt.ylabel('Actual')\n",
    "plt.title('Confusion Matrix')\n",
    "plt.show()\n",
    "\n",
    "# print classification report\n",
    "print(cr)\n"
   ]
  }
 ],
 "metadata": {
  "kernelspec": {
   "display_name": "Python 3 (ipykernel)",
   "language": "python",
   "name": "python3"
  },
  "language_info": {
   "codemirror_mode": {
    "name": "ipython",
    "version": 3
   },
   "file_extension": ".py",
   "mimetype": "text/x-python",
   "name": "python",
   "nbconvert_exporter": "python",
   "pygments_lexer": "ipython3",
   "version": "3.8.10"
  }
 },
 "nbformat": 4,
 "nbformat_minor": 5
}
